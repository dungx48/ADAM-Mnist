{
 "cells": [
  {
   "cell_type": "markdown",
   "metadata": {
    "colab_type": "text",
    "id": "QEj6V2piUnFZ"
   },
   "source": [
    "![alt text](https://i.imgur.com/0cvnBXi.png)\n"
   ]
  },
  {
   "cell_type": "code",
   "execution_count": 0,
   "metadata": {
    "colab": {
     "base_uri": "https://localhost:8080/",
     "height": 1000
    },
    "colab_type": "code",
    "id": "J7y-5g7qPrMN",
    "outputId": "240cad41-10ce-47a5-f38a-f706a4ba2a52"
   },
   "outputs": [
    {
     "name": "stdout",
     "output_type": "stream",
     "text": [
      "TensorFlow 1.x selected.\n"
     ]
    },
    {
     "name": "stderr",
     "output_type": "stream",
     "text": [
      "Using TensorFlow backend.\n"
     ]
    },
    {
     "name": "stdout",
     "output_type": "stream",
     "text": [
      "Downloading data from https://www.cs.toronto.edu/~kriz/cifar-10-python.tar.gz\n",
      "170500096/170498071 [==============================] - 2s 0us/step\n",
      "x_train shape: (50000, 32, 32, 3)\n",
      "50000 train samples\n",
      "10000 test samples\n",
      "WARNING:tensorflow:From /tensorflow-1.15.2/python3.6/tensorflow_core/python/ops/resource_variable_ops.py:1630: calling BaseResourceVariable.__init__ (from tensorflow.python.ops.resource_variable_ops) with constraint is deprecated and will be removed in a future version.\n",
      "Instructions for updating:\n",
      "If using Keras pass *_constraint arguments to layers.\n",
      "WARNING:tensorflow:From /usr/local/lib/python3.6/dist-packages/keras/backend/tensorflow_backend.py:4070: The name tf.nn.max_pool is deprecated. Please use tf.nn.max_pool2d instead.\n",
      "\n",
      "Using real-time data augmentation.\n",
      "WARNING:tensorflow:From /usr/local/lib/python3.6/dist-packages/keras/backend/tensorflow_backend.py:422: The name tf.global_variables is deprecated. Please use tf.compat.v1.global_variables instead.\n",
      "\n",
      "Epoch 1/30\n",
      "391/391 [==============================] - 407s 1s/step - loss: 1.8787 - accuracy: 0.2727 - val_loss: 1.4578 - val_accuracy: 0.4557\n",
      "Epoch 2/30\n",
      "391/391 [==============================] - 406s 1s/step - loss: 1.4546 - accuracy: 0.4634 - val_loss: 1.2000 - val_accuracy: 0.5637\n",
      "Epoch 3/30\n",
      "391/391 [==============================] - 403s 1s/step - loss: 1.2519 - accuracy: 0.5504 - val_loss: 1.0386 - val_accuracy: 0.6276\n",
      "Epoch 4/30\n",
      "391/391 [==============================] - 403s 1s/step - loss: 1.1214 - accuracy: 0.5999 - val_loss: 0.9321 - val_accuracy: 0.6685\n",
      "Epoch 5/30\n",
      "391/391 [==============================] - 410s 1s/step - loss: 1.0265 - accuracy: 0.6394 - val_loss: 0.8683 - val_accuracy: 0.6936\n",
      "Epoch 6/30\n",
      "391/391 [==============================] - 397s 1s/step - loss: 0.9744 - accuracy: 0.6589 - val_loss: 0.8672 - val_accuracy: 0.7016\n",
      "Epoch 7/30\n",
      "391/391 [==============================] - 393s 1s/step - loss: 0.9174 - accuracy: 0.6810 - val_loss: 0.9028 - val_accuracy: 0.6891\n",
      "Epoch 8/30\n",
      "391/391 [==============================] - 392s 1s/step - loss: 0.8928 - accuracy: 0.6896 - val_loss: 0.7295 - val_accuracy: 0.7505\n",
      "Epoch 9/30\n",
      "391/391 [==============================] - 387s 989ms/step - loss: 0.8587 - accuracy: 0.7028 - val_loss: 0.7983 - val_accuracy: 0.7282\n",
      "Epoch 10/30\n",
      "391/391 [==============================] - 390s 997ms/step - loss: 0.8329 - accuracy: 0.7097 - val_loss: 0.7609 - val_accuracy: 0.7381\n",
      "Epoch 11/30\n",
      "391/391 [==============================] - 390s 998ms/step - loss: 0.8042 - accuracy: 0.7208 - val_loss: 0.7413 - val_accuracy: 0.7473\n",
      "Epoch 12/30\n",
      "391/391 [==============================] - 385s 985ms/step - loss: 0.7865 - accuracy: 0.7297 - val_loss: 0.6838 - val_accuracy: 0.7661\n",
      "Epoch 13/30\n",
      "391/391 [==============================] - 388s 993ms/step - loss: 0.7713 - accuracy: 0.7338 - val_loss: 0.7169 - val_accuracy: 0.7568\n",
      "Epoch 14/30\n",
      "391/391 [==============================] - 388s 993ms/step - loss: 0.7517 - accuracy: 0.7386 - val_loss: 0.6892 - val_accuracy: 0.7644\n",
      "Epoch 15/30\n",
      "391/391 [==============================] - 392s 1s/step - loss: 0.7501 - accuracy: 0.7419 - val_loss: 0.6531 - val_accuracy: 0.7801\n",
      "Epoch 16/30\n",
      "391/391 [==============================] - 392s 1s/step - loss: 0.7336 - accuracy: 0.7473 - val_loss: 0.6712 - val_accuracy: 0.7690\n",
      "Epoch 17/30\n",
      "391/391 [==============================] - 389s 994ms/step - loss: 0.7209 - accuracy: 0.7532 - val_loss: 0.6273 - val_accuracy: 0.7850\n",
      "Epoch 18/30\n",
      "391/391 [==============================] - 393s 1s/step - loss: 0.7027 - accuracy: 0.7612 - val_loss: 0.6236 - val_accuracy: 0.7832\n",
      "Epoch 19/30\n",
      "391/391 [==============================] - 392s 1s/step - loss: 0.6936 - accuracy: 0.7621 - val_loss: 0.6192 - val_accuracy: 0.7902\n",
      "Epoch 20/30\n",
      "391/391 [==============================] - 385s 983ms/step - loss: 0.6892 - accuracy: 0.7628 - val_loss: 0.6754 - val_accuracy: 0.7698\n",
      "Epoch 21/30\n",
      "391/391 [==============================] - 389s 994ms/step - loss: 0.6877 - accuracy: 0.7647 - val_loss: 0.5927 - val_accuracy: 0.7969\n",
      "Epoch 22/30\n",
      "391/391 [==============================] - 385s 985ms/step - loss: 0.6718 - accuracy: 0.7689 - val_loss: 0.5988 - val_accuracy: 0.7987\n",
      "Epoch 23/30\n",
      "391/391 [==============================] - 386s 987ms/step - loss: 0.6684 - accuracy: 0.7701 - val_loss: 0.5906 - val_accuracy: 0.7996\n",
      "Epoch 24/30\n",
      "391/391 [==============================] - 394s 1s/step - loss: 0.6627 - accuracy: 0.7747 - val_loss: 0.6473 - val_accuracy: 0.7839\n",
      "Epoch 25/30\n",
      "391/391 [==============================] - 385s 984ms/step - loss: 0.6581 - accuracy: 0.7734 - val_loss: 0.6284 - val_accuracy: 0.7869\n",
      "Epoch 26/30\n",
      "391/391 [==============================] - 387s 989ms/step - loss: 0.6511 - accuracy: 0.7762 - val_loss: 0.5933 - val_accuracy: 0.8003\n",
      "Epoch 27/30\n",
      "391/391 [==============================] - 383s 980ms/step - loss: 0.6448 - accuracy: 0.7804 - val_loss: 0.5976 - val_accuracy: 0.7937\n",
      "Epoch 28/30\n",
      "391/391 [==============================] - 381s 975ms/step - loss: 0.6382 - accuracy: 0.7830 - val_loss: 0.5926 - val_accuracy: 0.7984\n",
      "Epoch 29/30\n",
      "391/391 [==============================] - 383s 980ms/step - loss: 0.6302 - accuracy: 0.7846 - val_loss: 0.5555 - val_accuracy: 0.8107\n",
      "Epoch 30/30\n",
      "391/391 [==============================] - 382s 977ms/step - loss: 0.6274 - accuracy: 0.7869 - val_loss: 0.6061 - val_accuracy: 0.7945\n"
     ]
    }
   ],
   "source": [
    "%tensorflow_version 1.x \n",
    "\n",
    "#Train a simple deep CNN on the CIFAR10 small images dataset\n",
    "from __future__ import print_function\n",
    "import keras\n",
    "from keras.datasets import cifar10\n",
    "from keras.preprocessing.image import ImageDataGenerator\n",
    "from keras.models import Sequential\n",
    "from keras.layers import Dense, Dropout, Activation, Flatten\n",
    "from keras.layers import Conv2D, MaxPooling2D, BatchNormalization, ZeroPadding2D\n",
    "import os\n",
    "\n",
    "batch_size = 128\n",
    "num_classes = 10\n",
    "epochs = 30\n",
    "data_augmentation = True\n",
    "num_predictions = 20\n",
    "\n",
    "\n",
    "# The data, split between train and test sets:\n",
    "(x_train, y_train), (x_test, y_test) = cifar10.load_data()\n",
    "print('x_train shape:', x_train.shape)\n",
    "print(x_train.shape[0], 'train samples')\n",
    "print(x_test.shape[0], 'test samples')\n",
    "\n",
    "# Convert class vectors to binary class matrices.\n",
    "y_train = keras.utils.to_categorical(y_train, num_classes)\n",
    "y_test = keras.utils.to_categorical(y_test, num_classes)\n",
    "\n",
    "model = Sequential()\n",
    "model.add(Conv2D(32, (3, 3), padding='same',\n",
    "                 input_shape=x_train.shape[1:]))\n",
    "model.add(Activation('relu'))\n",
    "model.add(Conv2D(32, (3, 3)))\n",
    "model.add(Activation('relu'))\n",
    "model.add(MaxPooling2D(pool_size=(2, 2)))\n",
    "model.add(Dropout(0.25))\n",
    "\n",
    "model.add(Conv2D(64, (3, 3), padding='same'))\n",
    "model.add(Activation('relu'))\n",
    "model.add(Conv2D(64, (3, 3)))\n",
    "model.add(Activation('relu'))\n",
    "model.add(MaxPooling2D(pool_size=(2, 2)))\n",
    "model.add(Dropout(0.25))\n",
    "\n",
    "model.add(Conv2D(128, (3, 3), padding='same'))\n",
    "model.add(Activation('relu'))\n",
    "model.add(Conv2D(128, (3, 3)))\n",
    "model.add(Activation('relu'))\n",
    "model.add(MaxPooling2D(pool_size=(2, 2)))\n",
    "model.add(Dropout(0.25))\n",
    "\n",
    "model.add(Conv2D(512, (3, 3), padding='same'))\n",
    "model.add(Activation('relu'))\n",
    "model.add(Dropout(0.5))\n",
    "model.add(Conv2D(512, (1, 1), padding='same'))\n",
    "model.add(Activation('relu'))\n",
    "model.add(Dropout(0.5))\n",
    "\n",
    "model.add(Conv2D(num_classes, (1, 1), padding='same'))\n",
    "model.add(Flatten())\n",
    "model.add(Dense(num_classes))\n",
    "model.add(Activation('softmax'))\n",
    "\n",
    "x_train = x_train.astype('float32')\n",
    "x_test = x_test.astype('float32')\n",
    "x_train /= 255\n",
    "x_test /= 255\n",
    "\n",
    "if not data_augmentation:\n",
    "    print('Not using data augmentation.')\n",
    "    model.fit(x_train, y_train,\n",
    "              batch_size=batch_size,\n",
    "              epochs=epochs,\n",
    "              validation_data=(x_test, y_test),\n",
    "              shuffle=True)\n",
    "else:\n",
    "    print('Using real-time data augmentation.')\n",
    "    # This will do preprocessing and realtime data augmentation:\n",
    "    datagen = ImageDataGenerator(\n",
    "        featurewise_center=False,  # set input mean to 0 over the dataset\n",
    "        samplewise_center=False,  # set each sample mean to 0\n",
    "        featurewise_std_normalization=False,  # divide inputs by std of the dataset\n",
    "        samplewise_std_normalization=False,  # divide each input by its std\n",
    "        zca_whitening=False,  # apply ZCA whitening\n",
    "        zca_epsilon=1e-06,  # epsilon for ZCA whitening\n",
    "        rotation_range=0,  # randomly rotate images in the range (degrees, 0 to 180)\n",
    "        # randomly shift images horizontally (fraction of total width)\n",
    "        width_shift_range=0.1,\n",
    "        # randomly shift images vertically (fraction of total height)\n",
    "        height_shift_range=0.1,\n",
    "        shear_range=0.,  # set range for random shear\n",
    "        zoom_range=0.,  # set range for random zoom\n",
    "        channel_shift_range=0.,  # set range for random channel shifts\n",
    "        # set mode for filling points outside the input boundaries\n",
    "        fill_mode='nearest',\n",
    "        cval=0.,  # value used for fill_mode = \"constant\"\n",
    "        horizontal_flip=True,  # randomly flip images\n",
    "        vertical_flip=False,  # randomly flip images\n",
    "        # set rescaling factor (applied before any other transformation)\n",
    "        rescale=None,\n",
    "        # set function that will be applied on each input\n",
    "        preprocessing_function=None,\n",
    "        # image data format, either \"channels_first\" or \"channels_last\"\n",
    "        data_format=None,\n",
    "        # fraction of images reserved for validation (strictly between 0 and 1)\n",
    "        validation_split=0.0)\n",
    "\n",
    "    # Compute quantities required for feature-wise normalization\n",
    "    # (std, mean, and principal components if ZCA whitening is applied).\n",
    "    datagen.fit(x_train)\n",
    "\n",
    "    \n",
    "    # initiate optimizers\n",
    "\n",
    "    adam_opt = keras.optimizers.Adam(learning_rate=0.001, beta_1=0.9, beta_2=0.999, amsgrad=False)\n",
    "    ams_opt = keras.optimizers.Adam(learning_rate=0.001, beta_1=0.9, beta_2=0.999, amsgrad=False)\n",
    "\n",
    "    # Let's train the model\n",
    "    model.compile(loss='categorical_crossentropy',\n",
    "                  optimizer=adam_opt,\n",
    "                  metrics=['accuracy'])\n",
    "    model.save_weights('model.h5')\n",
    "\n",
    "    # Fit the model on the batches generated by datagen.flow().\n",
    "    history_adam = model.fit_generator(datagen.flow(x_train, y_train,\n",
    "                                     batch_size=batch_size),\n",
    "                        epochs=epochs,\n",
    "                        validation_data=(x_test, y_test),\n",
    "                        workers=4)\n"
   ]
  },
  {
   "cell_type": "code",
   "execution_count": 0,
   "metadata": {
    "colab": {
     "base_uri": "https://localhost:8080/",
     "height": 1000
    },
    "colab_type": "code",
    "id": "Fj6ln3XFkGNO",
    "outputId": "fb639872-f324-464e-a4e3-5135221fe09f"
   },
   "outputs": [
    {
     "name": "stdout",
     "output_type": "stream",
     "text": [
      "Epoch 1/30\n",
      "391/391 [==============================] - 383s 980ms/step - loss: 1.8102 - accuracy: 0.3095 - val_loss: 1.4680 - val_accuracy: 0.4492\n",
      "Epoch 2/30\n",
      "391/391 [==============================] - 393s 1s/step - loss: 1.4391 - accuracy: 0.4717 - val_loss: 1.3638 - val_accuracy: 0.4990\n",
      "Epoch 3/30\n",
      "391/391 [==============================] - 401s 1s/step - loss: 1.2514 - accuracy: 0.5498 - val_loss: 1.1741 - val_accuracy: 0.5803\n",
      "Epoch 4/30\n",
      "391/391 [==============================] - 387s 990ms/step - loss: 1.1252 - accuracy: 0.5968 - val_loss: 0.9402 - val_accuracy: 0.6666\n",
      "Epoch 5/30\n",
      "391/391 [==============================] - 392s 1s/step - loss: 1.0258 - accuracy: 0.6346 - val_loss: 0.9384 - val_accuracy: 0.6695\n",
      "Epoch 6/30\n",
      "391/391 [==============================] - 387s 990ms/step - loss: 0.9677 - accuracy: 0.6589 - val_loss: 0.8876 - val_accuracy: 0.6883\n",
      "Epoch 7/30\n",
      "391/391 [==============================] - 388s 991ms/step - loss: 0.9079 - accuracy: 0.6814 - val_loss: 0.8476 - val_accuracy: 0.7070\n",
      "Epoch 8/30\n",
      "391/391 [==============================] - 396s 1s/step - loss: 0.8684 - accuracy: 0.6969 - val_loss: 0.8773 - val_accuracy: 0.6966\n",
      "Epoch 9/30\n",
      "391/391 [==============================] - 395s 1s/step - loss: 0.8477 - accuracy: 0.7040 - val_loss: 0.7635 - val_accuracy: 0.7341\n",
      "Epoch 10/30\n",
      "391/391 [==============================] - 399s 1s/step - loss: 0.8167 - accuracy: 0.7148 - val_loss: 0.7659 - val_accuracy: 0.7321\n",
      "Epoch 11/30\n",
      "391/391 [==============================] - 403s 1s/step - loss: 0.7909 - accuracy: 0.7264 - val_loss: 0.7056 - val_accuracy: 0.7552\n",
      "Epoch 12/30\n",
      "391/391 [==============================] - 407s 1s/step - loss: 0.7716 - accuracy: 0.7347 - val_loss: 0.7547 - val_accuracy: 0.7439\n",
      "Epoch 13/30\n",
      "391/391 [==============================] - 402s 1s/step - loss: 0.7595 - accuracy: 0.7370 - val_loss: 0.6631 - val_accuracy: 0.7747\n",
      "Epoch 14/30\n",
      "391/391 [==============================] - 398s 1s/step - loss: 0.7488 - accuracy: 0.7402 - val_loss: 0.6570 - val_accuracy: 0.7764\n",
      "Epoch 15/30\n",
      "391/391 [==============================] - 391s 1s/step - loss: 0.7268 - accuracy: 0.7505 - val_loss: 0.6517 - val_accuracy: 0.7764\n",
      "Epoch 16/30\n",
      "391/391 [==============================] - 402s 1s/step - loss: 0.7167 - accuracy: 0.7526 - val_loss: 0.6248 - val_accuracy: 0.7879\n",
      "Epoch 17/30\n",
      "391/391 [==============================] - 404s 1s/step - loss: 0.7088 - accuracy: 0.7552 - val_loss: 0.6784 - val_accuracy: 0.7688\n",
      "Epoch 18/30\n",
      "391/391 [==============================] - 395s 1s/step - loss: 0.6993 - accuracy: 0.7595 - val_loss: 0.6566 - val_accuracy: 0.7783\n",
      "Epoch 19/30\n",
      "391/391 [==============================] - 398s 1s/step - loss: 0.6907 - accuracy: 0.7642 - val_loss: 0.5855 - val_accuracy: 0.8003\n",
      "Epoch 20/30\n",
      "391/391 [==============================] - 394s 1s/step - loss: 0.6823 - accuracy: 0.7661 - val_loss: 0.6275 - val_accuracy: 0.7879\n",
      "Epoch 21/30\n",
      "391/391 [==============================] - 393s 1s/step - loss: 0.6731 - accuracy: 0.7686 - val_loss: 0.6382 - val_accuracy: 0.7817\n",
      "Epoch 22/30\n",
      "391/391 [==============================] - 401s 1s/step - loss: 0.6647 - accuracy: 0.7729 - val_loss: 0.6145 - val_accuracy: 0.7908\n",
      "Epoch 23/30\n",
      "391/391 [==============================] - 390s 997ms/step - loss: 0.6615 - accuracy: 0.7739 - val_loss: 0.6016 - val_accuracy: 0.7922\n",
      "Epoch 24/30\n",
      "391/391 [==============================] - 387s 990ms/step - loss: 0.6509 - accuracy: 0.7775 - val_loss: 0.5943 - val_accuracy: 0.7997\n",
      "Epoch 25/30\n",
      "391/391 [==============================] - 394s 1s/step - loss: 0.6396 - accuracy: 0.7820 - val_loss: 0.5965 - val_accuracy: 0.8006\n",
      "Epoch 26/30\n",
      "391/391 [==============================] - 396s 1s/step - loss: 0.6411 - accuracy: 0.7822 - val_loss: 0.6037 - val_accuracy: 0.7938\n",
      "Epoch 27/30\n",
      "391/391 [==============================] - 398s 1s/step - loss: 0.6301 - accuracy: 0.7850 - val_loss: 0.5551 - val_accuracy: 0.8132\n",
      "Epoch 28/30\n",
      "391/391 [==============================] - 397s 1s/step - loss: 0.6285 - accuracy: 0.7855 - val_loss: 0.6232 - val_accuracy: 0.7885\n",
      "Epoch 29/30\n",
      "391/391 [==============================] - 401s 1s/step - loss: 0.6226 - accuracy: 0.7888 - val_loss: 0.5651 - val_accuracy: 0.8111\n",
      "Epoch 30/30\n",
      "391/391 [==============================] - 392s 1s/step - loss: 0.6164 - accuracy: 0.7901 - val_loss: 0.5602 - val_accuracy: 0.8120\n",
      "10000/10000 [==============================] - 14s 1ms/step\n"
     ]
    }
   ],
   "source": [
    "    model.load_weights('model.h5')\n",
    "    model.compile(loss='categorical_crossentropy',\n",
    "                  optimizer=ams_opt,\n",
    "                  metrics=['accuracy'])\n",
    "    history_ams = model.fit_generator(datagen.flow(x_train, y_train,\n",
    "                                     batch_size=batch_size),\n",
    "                        epochs=epochs,\n",
    "                        validation_data=(x_test, y_test),\n",
    "                        workers=4)\n",
    "\n",
    "# Score trained model.\n",
    "scores = model.evaluate(x_test, y_test, verbose=1)"
   ]
  },
  {
   "cell_type": "code",
   "execution_count": 0,
   "metadata": {
    "colab": {
     "base_uri": "https://localhost:8080/",
     "height": 295
    },
    "colab_type": "code",
    "id": "5ArymHUcx7Io",
    "outputId": "141d98b4-70ff-4451-f3a9-92429b2bb91c"
   },
   "outputs": [
    {
     "data": {
      "image/png": "[encoded data removed]",
      "text/plain": [
       "<Figure size 432x288 with 1 Axes>"
      ]
     },
     "metadata": {
      "needs_background": "light",
      "tags": []
     },
     "output_type": "display_data"
    }
   ],
   "source": [
    "import matplotlib.pyplot as pl1\n",
    "\n",
    "pl1.plot(history_adam.history['loss'],label='Adam',color=(0,0,1))\n",
    "pl1.plot(history_ams.history['loss'],label='AMSGRAD',color=(1,0,0))\n",
    "pl1.title('Training Loss')\n",
    "pl1.ylabel('Loss')\n",
    "pl1.xlabel('Epochs')\n",
    "pl1.legend()\n",
    "pl1.show()\n"
   ]
  },
  {
   "cell_type": "markdown",
   "metadata": {
    "colab_type": "text",
    "id": "KAF_pmrfB7QB"
   },
   "source": [
    "Có thể thấy AMSGrad hội tụ nhanh hơn ADAM trong phần lớn quá trình huấn luyện, tuy nhiên khi kết thúc huấn luyện cả hai thuật toán đều hội tụ về cùng một mất mát tương tự nhau. Thêm vào đó, tại một số lần lặp gần cuối, ADAM hội tụ nhanh hơn cả AMSGRAD. Những điều này không mang nhiều ý nghĩa vì đây chỉ là mất mát khi huấn luyện. Tuy nhiên, chúng lại khác với những kết luận được đưa ra trong bài báo 'On The Convergence Of ADAM And Beyond' khi huấn luyện với mô hình cifarnet, trong đó các tác giả kết luận răng train loss của AMSGRAD thấp hơn nhiều so với ADAM."
   ]
  },
  {
   "cell_type": "code",
   "execution_count": 0,
   "metadata": {
    "colab": {
     "base_uri": "https://localhost:8080/",
     "height": 295
    },
    "colab_type": "code",
    "id": "T41MUoZyACVN",
    "outputId": "91f2a852-0581-4a80-8104-4cf5cb766a78"
   },
   "outputs": [
    {
     "data": {
      "image/png": "[encoded data removed]",
      "text/plain": [
       "<Figure size 432x288 with 1 Axes>"
      ]
     },
     "metadata": {
      "needs_background": "light",
      "tags": []
     },
     "output_type": "display_data"
    }
   ],
   "source": [
    "import matplotlib.pyplot as pl2\n",
    "\n",
    "pl2.plot(history_adam.history['val_loss'],label='Adam',color=(0,0,1))\n",
    "pl2.plot(history_ams.history['val_loss'],label='AMSGRAD',color=(1,0,0))\n",
    "pl2.title('Validation Loss')\n",
    "pl2.ylabel('Loss')\n",
    "pl2.xlabel('Epochs')\n",
    "pl2.legend()\n",
    "pl2.show()\n"
   ]
  },
  {
   "cell_type": "markdown",
   "metadata": {
    "colab_type": "text",
    "id": "J8ifBYPQELor"
   },
   "source": [
    "Validation loss lại cho ra kết quả khác xa Train loss. Có thể thấy, trong những lần lặp đầu, ADAM cho validation loss thấp hơn so với AMSGRAD. Ở những lần lặp sau đó, hai thuật toán liên tục đổi vị trí cho nhau khi so sánh giá trị validation loss."
   ]
  },
  {
   "cell_type": "code",
   "execution_count": 0,
   "metadata": {
    "colab": {
     "base_uri": "https://localhost:8080/",
     "height": 295
    },
    "colab_type": "code",
    "id": "Fij9lErfAK6b",
    "outputId": "c14988dc-aa89-4b79-bf2f-14247cb759df"
   },
   "outputs": [
    {
     "data": {
      "image/png": "[encoded data removed]",
      "text/plain": [
       "<Figure size 432x288 with 1 Axes>"
      ]
     },
     "metadata": {
      "needs_background": "light",
      "tags": []
     },
     "output_type": "display_data"
    }
   ],
   "source": [
    "import matplotlib.pyplot as pl3\n",
    "\n",
    "pl3.plot(history_adam.history['accuracy'],label='Adam',color=(0,0,1))\n",
    "pl3.plot(history_ams.history['accuracy'],label='AMSGRAD',color=(1,0,0))\n",
    "pl3.title('Training Accuracy')\n",
    "pl3.ylabel('Accuracy')\n",
    "pl3.xlabel('Epochs')\n",
    "pl3.legend()\n",
    "pl3.show()\n"
   ]
  },
  {
   "cell_type": "markdown",
   "metadata": {
    "colab_type": "text",
    "id": "7rme0V6wFMA8"
   },
   "source": [
    "Training accuracy khá tương đồng với Training loss. AMSGRAD hội tụ nhanh hơn ADAM nhưng khi kết thúc quá trình huấn luyện, cả hai thuật toán đều đạt được độ chính xác tương đương nhau."
   ]
  },
  {
   "cell_type": "code",
   "execution_count": 0,
   "metadata": {
    "colab": {
     "base_uri": "https://localhost:8080/",
     "height": 295
    },
    "colab_type": "code",
    "id": "G2fQ3mt0AUBP",
    "outputId": "b59bf419-746c-408e-f683-486b980a3521"
   },
   "outputs": [
    {
     "data": {
      "image/png": "[encoded data removed]",
      "text/plain": [
       "<Figure size 432x288 with 1 Axes>"
      ]
     },
     "metadata": {
      "needs_background": "light",
      "tags": []
     },
     "output_type": "display_data"
    }
   ],
   "source": [
    "import matplotlib.pyplot as pl4\n",
    "\n",
    "pl4.plot(history_adam.history['val_accuracy'],label='Adam',color=(0,0,1))\n",
    "pl4.plot(history_ams.history['val_accuracy'],label='AMSGRAD',color=(1,0,0))\n",
    "pl4.title('Validation Accuracy')\n",
    "pl4.ylabel('Accuracy')\n",
    "pl4.xlabel('Epochs')\n",
    "pl4.legend()\n",
    "pl4.show()"
   ]
  },
  {
   "cell_type": "markdown",
   "metadata": {
    "colab_type": "text",
    "id": "sg64DoycF60J"
   },
   "source": [
    "Đối với validation accuracy, thuật toán ADAM cho độ chính xác cao hơn so với AMSGRAD trong phần lớn quá trình nhưng không ổn định. Và cũng như validation loss, độ chính xác của hai thuật toán này liên tục đổi ngôi cho nhau trong những lần lặp cuối."
   ]
  },
  {
   "cell_type": "markdown",
   "metadata": {
    "colab_type": "text",
    "id": "YcJDU8_6GscU"
   },
   "source": [
    "Kết luận:\n",
    "Trong bài báo 'On The Convergence Of ADAM And Beyond', các tác giả kết luận rằng AMSGRAD cho hiệu năng **tốt hơn nhiều** so với ADAM khi so sánh training loss và accuracy. Tuy nhiên, những kết quả của thí nghiệm ở trên lại không cho thấy điều tương tự. ADAM mang lại hiệu năng tương đương và tại một số điểm còn tốt hơn AMSGRAD."
   ]
  }
 ],
 "metadata": {
  "colab": {
   "collapsed_sections": [],
   "name": "smallVGG",
   "provenance": []
  },
  "kernelspec": {
   "display_name": "Python 3",
   "language": "python",
   "name": "python3"
  },
  "language_info": {
   "codemirror_mode": {
    "name": "ipython",
    "version": 3
   },
   "file_extension": ".py",
   "mimetype": "text/x-python",
   "name": "python",
   "nbconvert_exporter": "python",
   "pygments_lexer": "ipython3",
   "version": "3.6.13"
  }
 },
 "nbformat": 4,
 "nbformat_minor": 1
}

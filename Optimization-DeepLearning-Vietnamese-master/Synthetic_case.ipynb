{
  "nbformat": 4,
  "nbformat_minor": 0,
  "metadata": {
    "colab": {
      "name": "Synthetic.ipynb",
      "provenance": [],
      "collapsed_sections": []
    },
    "kernelspec": {
      "name": "python3",
      "display_name": "Python 3"
    },
    "accelerator": "GPU"
  },
  "cells": [
    {
      "cell_type": "markdown",
      "metadata": {
        "id": "4pAe-dGkpYkf",
        "colab_type": "text"
      },
      "source": [
        "# **Synthetic case: A convex setting**\n",
        "$$f_t(x) =  \\begin{cases} \n",
        "      1010x & \\text{for } t \\text{ mod 101} = 1\\\\\n",
        "      -10x & \\text{otherwise}\n",
        "   \\end{cases} $$\n",
        "\n",
        "With $\\mathcal{F}$ = [−1; 1]. \\\\\n",
        "The optimal solution is x = −1, providing the minimum regret. Thus, for convergence, we expect the algorithms to converge to x = −1. \n",
        "\n",
        "However, as we see in the paper, the ADAM method fails to converge to −1 and instead converges to the suboptimal solution of x = 1. This behavior is due to the exponential moving averages of squared past gradients that causes the rare but informative gradients to die out quickly. The gradient that is useful for optimal convergence will rarely appear (with probability of 0.01) and hence the ADAM method will not be able to effectively use\n",
        "this information. AMSGRAD does not suffer from the same problem, hence\n",
        "reaching the optimal solution.\n",
        "\n",
        "**Algorithm 1: ADAM**\n",
        "\n",
        "![alt text](https://i.imgur.com/vQpTtcE.png)\n",
        "![alt text](https://i.imgur.com/mmi1Fse.png)\n",
        "\n",
        "(According to proof of theorem 1 on the paper) Without loss of generality, assume that the initial point is $x_1$. This can\n",
        "be assumed without any loss of generality because for any choice of initial point, we can always\n",
        "translate the coordinate system such that the initial point is $x_1 $ in the new coordinate system\n",
        "and then choose the sequence of functions as above in the new coordinate system. Hence, we set $\\epsilon = 0$.\n",
        "\n",
        "Hyper-parameter: $\\beta_1 = 0.9, \\beta_2 = 0.99, \\alpha = 0.001 $"
      ]
    },
    {
      "cell_type": "code",
      "metadata": {
        "id": "mViPGKALpj0x",
        "colab_type": "code",
        "colab": {}
      },
      "source": [
        "%tensorflow_version 1.x \n",
        "import matplotlib.pyplot as plt\n",
        "import tensorflow as tf"
      ],
      "execution_count": 0,
      "outputs": []
    },
    {
      "cell_type": "code",
      "metadata": {
        "id": "dj6T09AepnwJ",
        "colab_type": "code",
        "colab": {}
      },
      "source": [
        "class AdamOptimizer(tf.train.Optimizer):\n",
        "  def __init__(self, learning_rate=0.001, decay=False, beta1=0.9, beta2=0.99,\n",
        "               epsilon=0.0, var_list=[]):\n",
        "    self.learning_rate = learning_rate\n",
        "    self.decay = decay\n",
        "    self.beta1 = beta1\n",
        "    self.beta2 = beta2\n",
        "    self.epsilon = epsilon\n",
        "    \n",
        "    self.var_list = var_list\n",
        "    self.m = {}\n",
        "    self.v = {}\n",
        "    self.beta1_t = tf.Variable(1.0, trainable=False)\n",
        "    self.beta2_t = tf.Variable(1.0, trainable=False)\n",
        "    self.t = tf.Variable(0.0, trainable=False)\n",
        "    \n",
        "    for var in self.var_list:\n",
        "      self.m[var] = tf.Variable(tf.zeros(tf.shape(var.initial_value)), trainable=False)\n",
        "      self.v[var] = tf.Variable(tf.zeros(tf.shape(var.initial_value)), trainable=False)\n",
        "    \n",
        "  def apply_gradients(self, gradient_variables):\n",
        "    beta1_t = self.beta1_t.assign(self.beta1_t * self.beta1)\n",
        "    beta2_t = self.beta2_t.assign(self.beta2_t * self.beta2)\n",
        "    \n",
        "    with tf.control_dependencies([self.t.assign_add(1.0), beta1_t, beta2_t]):\n",
        "      learning_rate = self.learning_rate\n",
        "      # if self.decay:\n",
        "      #   learning_rate /= tf.sqrt(self.t)\n",
        "      update_ops = []\n",
        "\n",
        "      for (g, var) in gradient_variables:\n",
        "        m = self.m[var].assign(self.beta1 * self.m[var] + (1 - self.beta1) * g)\n",
        "        v = self.v[var].assign(self.beta2 * self.v[var] + (1 - self.beta2) * g * g)\n",
        "        m_hat = m / (1 - beta1_t)\n",
        "        v_hat = v / (1 - beta2_t)\n",
        "\n",
        "        update = -learning_rate * m_hat / (self.epsilon + tf.sqrt(v_hat))\n",
        "        update_ops.append(var.assign_add(update))\n",
        "\n",
        "      return tf.group(*update_ops)"
      ],
      "execution_count": 0,
      "outputs": []
    },
    {
      "cell_type": "code",
      "metadata": {
        "id": "e-3NfXZ3ppcY",
        "colab_type": "code",
        "colab": {}
      },
      "source": [
        "class AMSGradOptimizer(tf.train.Optimizer):\n",
        "  def __init__(self, learning_rate=0.001, decay=False, beta1=0.9, beta2=0.99,\n",
        "               epsilon=0.0, var_list=[]):\n",
        "    self.learning_rate = learning_rate\n",
        "    self.decay = decay\n",
        "    self.beta1 = beta1\n",
        "    self.beta2 = beta2\n",
        "    self.epsilon = epsilon\n",
        "    \n",
        "    self.var_list = var_list\n",
        "    self.m = {}\n",
        "    self.v = {}\n",
        "    self.v_hat = {}\n",
        "    self.t = tf.Variable(0.0, trainable=False)\n",
        "    \n",
        "    for var in self.var_list:\n",
        "      self.m[var] = tf.Variable(tf.zeros(tf.shape(var.initial_value)), trainable=False)\n",
        "      self.v[var] = tf.Variable(tf.zeros(tf.shape(var.initial_value)), trainable=False)\n",
        "      self.v_hat[var] = tf.Variable(tf.zeros(tf.shape(var.initial_value)), trainable=False)\n",
        "    \n",
        "  def apply_gradients(self, gradient_variables):\n",
        "    with tf.control_dependencies([self.t.assign_add(1.0)]):\n",
        "      learning_rate = self.learning_rate\n",
        "      # if self.decay:\n",
        "      #   learning_rate /= tf.sqrt(self.t)\n",
        "      update_ops = []\n",
        "\n",
        "      for (g, var) in gradient_variables:\n",
        "        m = self.m[var].assign(self.beta1 * self.m[var] + (1 - self.beta1) * g)\n",
        "        v = self.v[var].assign(self.beta2 * self.v[var] + (1 - self.beta2) * g * g)\n",
        "        v_hat = self.v_hat[var].assign(tf.maximum(self.v_hat[var], v))\n",
        "\n",
        "        update = -learning_rate * m / (self.epsilon + tf.sqrt(v_hat))\n",
        "        update_ops.append(var.assign_add(update))\n",
        "\n",
        "      return tf.group(*update_ops)"
      ],
      "execution_count": 0,
      "outputs": []
    },
    {
      "cell_type": "code",
      "metadata": {
        "id": "4hyo9Wq1prwA",
        "colab_type": "code",
        "colab": {}
      },
      "source": [
        "def test_optimizer(optimizer_name, iterations=1000000, learning_rate=0.001,\n",
        "                   decay=False):\n",
        "  tf.reset_default_graph()\n",
        "  \n",
        "  with tf.Session() as sess:\n",
        "    r = tf.distributions.Bernoulli(probs=0.01, dtype=tf.float32).sample()\n",
        "    x = tf.Variable(0.0)\n",
        "    loss = (r * 1010 - (1 - r) * 10) * x\n",
        "    var_list = [x]\n",
        "    gradient = tf.gradients(loss, var_list)\n",
        "\n",
        "    if optimizer_name == \"adam\":\n",
        "      optimizer = AdamOptimizer(var_list=var_list, learning_rate=learning_rate,\n",
        "                                decay=decay)\n",
        "    elif optimizer_name == \"amsgrad\":\n",
        "      optimizer = AMSGradOptimizer(var_list=var_list, learning_rate=learning_rate,\n",
        "                                   decay=decay)\n",
        "    else:\n",
        "      raise Exception(\"Unknown optimizer\")\n",
        "\n",
        "    update_op = optimizer.apply_gradients([(grad, var) for grad, var in zip(gradient, var_list)])\n",
        "    with tf.control_dependencies([update_op]):\n",
        "      clip_op = x.assign(tf.clip_by_value(x, -1.0, 1.0))\n",
        "\n",
        "    sess.run(tf.global_variables_initializer())\n",
        "\n",
        "    results = []\n",
        "\n",
        "    for i in range(iterations):\n",
        "      _, cur_x = sess.run([clip_op, x])\n",
        "      results.append(cur_x)\n",
        "      \n",
        "      if i % 50000 == 0:\n",
        "        print(cur_x)\n",
        "\n",
        "    return results"
      ],
      "execution_count": 0,
      "outputs": []
    },
    {
      "cell_type": "code",
      "metadata": {
        "id": "sgKPIUTxptXu",
        "colab_type": "code",
        "outputId": "ad7760b0-9d4d-4ff6-ba06-cf8bb4794886",
        "colab": {
          "base_uri": "https://localhost:8080/",
          "height": 479
        }
      },
      "source": [
        "results_adam = test_optimizer(\"adam\", iterations=1000000, learning_rate=0.001)"
      ],
      "execution_count": 0,
      "outputs": [
        {
          "output_type": "stream",
          "text": [
            "WARNING:tensorflow:From <ipython-input-4-b0d56b5ce2e9>:6: Bernoulli.__init__ (from tensorflow.python.ops.distributions.bernoulli) is deprecated and will be removed after 2019-01-01.\n",
            "Instructions for updating:\n",
            "The TensorFlow Distributions library has moved to TensorFlow Probability (https://github.com/tensorflow/probability). You should update all references to use `tfp.distributions` instead of `tf.distributions`.\n",
            "WARNING:tensorflow:From /tensorflow-1.15.0/python3.6/tensorflow_core/python/ops/distributions/bernoulli.py:97: Distribution.__init__ (from tensorflow.python.ops.distributions.distribution) is deprecated and will be removed after 2019-01-01.\n",
            "Instructions for updating:\n",
            "The TensorFlow Distributions library has moved to TensorFlow Probability (https://github.com/tensorflow/probability). You should update all references to use `tfp.distributions` instead of `tf.distributions`.\n",
            "0.0\n",
            "1.0\n",
            "0.96079737\n",
            "0.9893045\n",
            "0.99347013\n",
            "0.9678837\n",
            "0.97701055\n",
            "0.9902505\n",
            "1.0\n",
            "1.0\n",
            "1.0\n",
            "0.99248874\n",
            "0.987633\n",
            "0.9878476\n",
            "0.97927845\n",
            "0.9834641\n",
            "0.95851386\n",
            "0.98906547\n",
            "0.9775075\n",
            "1.0\n"
          ],
          "name": "stdout"
        }
      ]
    },
    {
      "cell_type": "code",
      "metadata": {
        "id": "KJrjvLNMpwgT",
        "colab_type": "code",
        "outputId": "66f0afd3-85c4-4a2c-caff-7f602d665af1",
        "colab": {
          "base_uri": "https://localhost:8080/",
          "height": 697
        }
      },
      "source": [
        "results_amsgrad = test_optimizer(\"amsgrad\", iterations=2000000, learning_rate=0.001)"
      ],
      "execution_count": 0,
      "outputs": [
        {
          "output_type": "stream",
          "text": [
            "0.0\n",
            "0.28722277\n",
            "0.17926161\n",
            "-0.037190784\n",
            "-0.1398136\n",
            "-0.1732991\n",
            "-0.37207317\n",
            "-0.49669042\n",
            "-0.5502147\n",
            "-0.5162109\n",
            "-0.52157235\n",
            "-0.28044268\n",
            "-0.4484797\n",
            "-0.5126171\n",
            "-0.5635477\n",
            "-0.5927723\n",
            "-0.63691163\n",
            "-0.7030826\n",
            "-0.7539578\n",
            "-0.64871293\n",
            "-0.90225124\n",
            "-0.7936022\n",
            "-0.7143659\n",
            "-0.76951736\n",
            "-0.87768614\n",
            "-0.8017726\n",
            "-0.91157967\n",
            "-0.8601429\n",
            "-0.9747956\n",
            "-0.9957222\n",
            "-0.96554255\n",
            "-0.87812936\n",
            "-0.9693847\n",
            "-0.9876074\n",
            "-0.96591234\n",
            "-0.9350075\n",
            "-0.99352664\n",
            "-0.99467266\n",
            "-0.97512734\n",
            "-0.9367569\n"
          ],
          "name": "stdout"
        }
      ]
    },
    {
      "cell_type": "code",
      "metadata": {
        "id": "_picbU6ipx_E",
        "colab_type": "code",
        "outputId": "e7d62ee7-82e8-4c44-b04d-2f65fd31623b",
        "colab": {
          "base_uri": "https://localhost:8080/",
          "height": 295
        }
      },
      "source": [
        "plt.plot(results_adam, label=\"Adam\", color=(0,0,1))\n",
        "plt.plot(results_amsgrad, label=\"AMSGRAD\",color=(1,0,0))\n",
        "plt.legend(bbox_to_anchor=(0.8, 0.9), loc=2, borderaxespad=0.)\n",
        "\n",
        "\n",
        "plt.title('Model Loss for the defined function')\n",
        "plt.ylabel('Loss')\n",
        "plt.xlabel('Epochs')\n",
        "plt.legend()\n",
        "plt.show()"
      ],
      "execution_count": 0,
      "outputs": [
        {
          "output_type": "display_data",
          "data": {
            "image/png": "[encoded data removed]",
            "text/plain": [
              "<Figure size 432x288 with 1 Axes>"
            ]
          },
          "metadata": {
            "tags": []
          }
        }
      ]
    }
  ]
}